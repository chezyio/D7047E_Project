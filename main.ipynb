{
 "cells": [
  {
   "cell_type": "markdown",
   "id": "294e817f",
   "metadata": {},
   "source": [
    "# Car Detection in Snow\n",
    "train a deep-learning network to detect cars in snow environments"
   ]
  },
  {
   "cell_type": "code",
   "execution_count": null,
   "id": "f2a5a69c",
   "metadata": {
    "vscode": {
     "languageId": "plaintext"
    }
   },
   "outputs": [],
   "source": []
  }
 ],
 "metadata": {
  "language_info": {
   "name": "python"
  }
 },
 "nbformat": 4,
 "nbformat_minor": 5
}
